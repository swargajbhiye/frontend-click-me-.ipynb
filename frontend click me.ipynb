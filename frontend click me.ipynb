{
 "cells": [
  {
   "cell_type": "code",
   "execution_count": 26,
   "id": "2ec0bd60-3ce6-4c73-b932-d161604cfa6a",
   "metadata": {},
   "outputs": [],
   "source": [
    "# create the main application window \n",
    "import tkinter as tk"
   ]
  },
  {
   "cell_type": "code",
   "execution_count": 28,
   "id": "8fafc2a7-1c8b-4b54-bbc4-858b02caeca9",
   "metadata": {},
   "outputs": [],
   "source": [
    "root = tk.Tk()"
   ]
  },
  {
   "cell_type": "code",
   "execution_count": 30,
   "id": "49fbbb59-2511-49c9-a5fb-540746c170ae",
   "metadata": {},
   "outputs": [
    {
     "data": {
      "text/plain": [
       "''"
      ]
     },
     "execution_count": 30,
     "metadata": {},
     "output_type": "execute_result"
    }
   ],
   "source": [
    "root.title(\"Simple Tkinter App\")\n"
   ]
  },
  {
   "cell_type": "code",
   "execution_count": 32,
   "id": "1bd2d5e0-26d6-4b91-80d6-2516b3d96f4d",
   "metadata": {},
   "outputs": [
    {
     "data": {
      "text/plain": [
       "''"
      ]
     },
     "execution_count": 32,
     "metadata": {},
     "output_type": "execute_result"
    }
   ],
   "source": [
    "root.geometry(\"200x100\") # set window size"
   ]
  },
  {
   "cell_type": "code",
   "execution_count": 34,
   "id": "63526b2b-e6f4-44ce-9e8e-9e5642a275c1",
   "metadata": {},
   "outputs": [],
   "source": [
    "# function to print \"Hello , World!\" in the console"
   ]
  },
  {
   "cell_type": "code",
   "execution_count": 36,
   "id": "ea3a3a80-50b6-4709-aa78-428d85a179ff",
   "metadata": {},
   "outputs": [],
   "source": [
    "def say_hello():\n",
    "    print(\"Hello, World\")"
   ]
  },
  {
   "cell_type": "code",
   "execution_count": 38,
   "id": "b6bc8a2b-ecfc-41d2-a278-148a1856c922",
   "metadata": {},
   "outputs": [],
   "source": [
    "# Create a button that triggers the say_hello function\n",
    "hello_button = tk.Button(root, text=\"Click Me\", command=say_hello)\n",
    "hello_button.pack(pady=20) # pack the button into the window"
   ]
  },
  {
   "cell_type": "code",
   "execution_count": 40,
   "id": "1e148146-c2d3-47e6-a4b8-cf2e3c6ceeea",
   "metadata": {},
   "outputs": [
    {
     "name": "stdout",
     "output_type": "stream",
     "text": [
      "Hello, World\n",
      "Hello, World\n",
      "Hello, World\n",
      "Hello, World\n",
      "Hello, World\n"
     ]
    }
   ],
   "source": [
    "# start the Tkinter event loop\n",
    "root.mainloop()"
   ]
  },
  {
   "cell_type": "code",
   "execution_count": null,
   "id": "052ef312-c74b-41dc-975e-b3b2995c24ed",
   "metadata": {},
   "outputs": [],
   "source": []
  },
  {
   "cell_type": "code",
   "execution_count": null,
   "id": "8653d0a9-cdc5-4f22-b7fd-9f8da5d3c3fb",
   "metadata": {},
   "outputs": [],
   "source": []
  },
  {
   "cell_type": "code",
   "execution_count": null,
   "id": "ff3d28fc-6f05-4745-81d4-52fc21f868af",
   "metadata": {},
   "outputs": [],
   "source": []
  },
  {
   "cell_type": "code",
   "execution_count": null,
   "id": "ba3ed445-8bfd-4d63-8b16-b1c27a3b5b98",
   "metadata": {},
   "outputs": [],
   "source": []
  },
  {
   "cell_type": "code",
   "execution_count": null,
   "id": "3bfc2f47-90f6-4582-8c7e-c4e3a678b36e",
   "metadata": {},
   "outputs": [],
   "source": []
  },
  {
   "cell_type": "code",
   "execution_count": null,
   "id": "b933cb7a-9ee9-40d8-bd06-459431a5c7b3",
   "metadata": {},
   "outputs": [],
   "source": []
  },
  {
   "cell_type": "code",
   "execution_count": null,
   "id": "08b4a3d2-d853-4eca-9039-b454147268b6",
   "metadata": {},
   "outputs": [],
   "source": []
  },
  {
   "cell_type": "code",
   "execution_count": null,
   "id": "0d648741-e07c-49a4-8ef7-f0e8b1fc5b81",
   "metadata": {},
   "outputs": [],
   "source": []
  },
  {
   "cell_type": "code",
   "execution_count": null,
   "id": "058a1e51-20f2-4cdc-a64b-8eac5bd511e9",
   "metadata": {},
   "outputs": [],
   "source": []
  },
  {
   "cell_type": "code",
   "execution_count": null,
   "id": "8a878201-d376-46c7-a501-0e3f5b067199",
   "metadata": {},
   "outputs": [],
   "source": []
  },
  {
   "cell_type": "code",
   "execution_count": null,
   "id": "4ee7bcc1-08e4-4041-912b-e121d1af095c",
   "metadata": {},
   "outputs": [],
   "source": []
  },
  {
   "cell_type": "code",
   "execution_count": null,
   "id": "338153ad-b9fb-45ad-81c4-283148187898",
   "metadata": {},
   "outputs": [],
   "source": []
  },
  {
   "cell_type": "code",
   "execution_count": null,
   "id": "6cd490be-fe33-4386-a965-93e818455418",
   "metadata": {},
   "outputs": [],
   "source": []
  },
  {
   "cell_type": "code",
   "execution_count": null,
   "id": "3dfa0bb2-2663-4880-bdbc-0db9dbb27626",
   "metadata": {},
   "outputs": [],
   "source": []
  }
 ],
 "metadata": {
  "kernelspec": {
   "display_name": "Python 3 (ipykernel)",
   "language": "python",
   "name": "python3"
  },
  "language_info": {
   "codemirror_mode": {
    "name": "ipython",
    "version": 3
   },
   "file_extension": ".py",
   "mimetype": "text/x-python",
   "name": "python",
   "nbconvert_exporter": "python",
   "pygments_lexer": "ipython3",
   "version": "3.12.4"
  }
 },
 "nbformat": 4,
 "nbformat_minor": 5
}
